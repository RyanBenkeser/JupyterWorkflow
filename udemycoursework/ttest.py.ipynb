{
 "cells": [
  {
   "cell_type": "code",
   "execution_count": 8,
   "metadata": {},
   "outputs": [],
   "source": [
    "import numpy as np\n",
    "from scipy import stats"
   ]
  },
  {
   "cell_type": "code",
   "execution_count": 12,
   "metadata": {},
   "outputs": [
    {
     "name": "stdout",
     "output_type": "stream",
     "text": [
      "t:\t 3.4345539409032493 p:\t 0.0029562756112997413\n",
      "t:\t 3.434553940903249 p:\t 0.005912551222599514\n"
     ]
    }
   ],
   "source": [
    "N = 10\n",
    "a = np.random.randn(N)+2\n",
    "b = np.random.randn(N)\n",
    "\n",
    "var_a = a.var(ddof=1)\n",
    "var_b = b.var(ddof=1)\n",
    "s = np.sqrt((var_a+var_b)/2)\n",
    "t = (a.mean() - b.mean()) / (s * np.sqrt(2.0/N))\n",
    "\n",
    "df = 2*N -2\n",
    "p = 1-stats.t.cdf(t, df=df)\n",
    "print(\"t:\\t\",t, \"p:\\t\", 2*p)\n",
    "\n",
    "t2, p2 = stats.ttest_ind(a,b)\n",
    "print(\"t:\\t\",t2, \"p:\\t\", 2*p2)"
   ]
  },
  {
   "cell_type": "code",
   "execution_count": null,
   "metadata": {},
   "outputs": [],
   "source": []
  }
 ],
 "metadata": {
  "kernelspec": {
   "display_name": "Python 3",
   "language": "python",
   "name": "python3"
  },
  "language_info": {
   "codemirror_mode": {
    "name": "ipython",
    "version": 3
   },
   "file_extension": ".py",
   "mimetype": "text/x-python",
   "name": "python",
   "nbconvert_exporter": "python",
   "pygments_lexer": "ipython3",
   "version": "3.6.5"
  }
 },
 "nbformat": 4,
 "nbformat_minor": 2
}
